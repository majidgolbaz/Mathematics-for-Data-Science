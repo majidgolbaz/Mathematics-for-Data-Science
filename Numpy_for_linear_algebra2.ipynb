{
 "cells": [
  {
   "cell_type": "markdown",
   "id": "560379d3",
   "metadata": {},
   "source": [
    "# Solving Linear Systems: 2 variables"
   ]
  },
  {
   "cell_type": "code",
   "execution_count": 1,
   "id": "fa3dcf04",
   "metadata": {},
   "outputs": [],
   "source": [
    "import numpy as np"
   ]
  },
  {
   "cell_type": "markdown",
   "id": "3a5552bd",
   "metadata": {},
   "source": [
    "<a name='1'></a>\n",
    "## 1 - Representing and Solving System of Linear Equations using Matrices"
   ]
  },
  {
   "cell_type": "markdown",
   "id": "7de33135",
   "metadata": {},
   "source": [
    "<a name='1.1'></a>\n",
    "### 1.1 - System of Linear Equations\n",
    "\n",
    "For example consider the following system of linear equations:\n",
    "\n",
    "\n",
    "$$\\begin{cases} \n",
    "-x+3y=7, \\\\ 3x+2y=1, \\end{cases}\\tag{1}$$\n",
    "\n",
    "It is a system of two equations with two unknown variables $x$, $y$. **To solve** a system of linear equations means to find such values of the variables $x$, $y$, that all of its equations are simultaneously satisfied.\n",
    "\n",
    "A linear system is **Singular** if it has no solution, and otherwise it is said to be **Non-singular**."
   ]
  },
  {
   "cell_type": "markdown",
   "id": "9b3741b6",
   "metadata": {},
   "source": [
    "<a name='1.2'></a>\n",
    "### 1.2 - Solving Systems of Linear Equations using Matrices\n",
    "\n",
    "Linear systems with two equations are easy to solve manually, but preparing for more complicated cases, you will investigate some solution techniques. \n",
    "\n",
    "`NumPy` linear algebra package provides quick and reliable way to solve the system of linear equations using function `np.linalg.solve(A, b)`. Here $A$ is a matrix, each row of which represents one equation in the system and each column corresponds to the variable $x_1$, $x_2$. And $b$ is a 1-D array of the free (right side) coefficients.\n",
    "Given the system of linear equations $(1)$, you can set matrix $A$ and 1-D array $b$ as:"
   ]
  },
  {
   "cell_type": "code",
   "execution_count": null,
   "id": "e5758e1b",
   "metadata": {},
   "outputs": [],
   "source": [
    "A = np.array([\n",
    "        [-1, 3],\n",
    "        [3, 2]\n",
    "    ], dtype=np.dtype(float))\n",
    "\n",
    "b = np.array([7, 1], dtype=np.dtype(float))\n",
    "\n",
    "print(\"Matrix A:\")\n",
    "print(A)\n",
    "print(\"\\nArray b:\")\n",
    "print(b)"
   ]
  },
  {
   "cell_type": "markdown",
   "id": "cb8d9457",
   "metadata": {},
   "source": [
    "Check the dimensions of $A$ and $b$ using the `shape` attribute (you can also use `np.shape()` as an alternative):"
   ]
  },
  {
   "cell_type": "code",
   "execution_count": null,
   "id": "ddc3b411",
   "metadata": {},
   "outputs": [],
   "source": [
    "print(f\"Shape of A: {A.shape}\")\n",
    "print(f\"Shape of b: {b.shape}\")\n",
    "\n",
    "# print(f\"Shape of A: {np.shape(A)}\")\n",
    "# print(f\"Shape of A: {np.shape(b)}\")"
   ]
  },
  {
   "cell_type": "markdown",
   "id": "ee2f505f",
   "metadata": {},
   "source": [
    "Now simply use `np.linalg.solve(A, b)` function to find the solution of the system $(1)$. The result will be saved in the 1-D array $x$. The elements will correspond to the values of $x_1$ and $x_2$:"
   ]
  },
  {
   "cell_type": "code",
   "execution_count": null,
   "id": "5e87fd89",
   "metadata": {},
   "outputs": [],
   "source": [
    "x = np.linalg.solve(A, b)\n",
    "\n",
    "print(f\"Solution: {x}\")"
   ]
  },
  {
   "cell_type": "markdown",
   "id": "15e5933b",
   "metadata": {},
   "source": [
    "Try to substitute those values of $x_1$ and $x_2$ into the original system of equations to check its consistency."
   ]
  },
  {
   "cell_type": "markdown",
   "id": "0720e16c",
   "metadata": {},
   "source": [
    "<a name='1.3'></a>\n",
    "### 1.3 - Evaluating Determinant of a Matrix\n",
    "\n",
    "Matrix $A$ corresponding to the linear system $(1)$ is a **square matrix** - it has the same number of rows and columns. In case of a square matrix it is possible to calculate its determinant.\n",
    "\n",
    "Let's calculate the determinant using `NumPy` linear algebra package. You can do it with the `np.linalg.det(A)` function. "
   ]
  },
  {
   "cell_type": "code",
   "execution_count": null,
   "id": "6cb492c2",
   "metadata": {},
   "outputs": [],
   "source": [
    "d = np.linalg.det(A)\n",
    "\n",
    "print(f\"Determinant of matrix A: {d:.2f}\")"
   ]
  },
  {
   "cell_type": "markdown",
   "id": "76d5e51f",
   "metadata": {},
   "source": [
    "Note that its value is non-zero, as expected since the matrix is Non-singular."
   ]
  },
  {
   "cell_type": "markdown",
   "id": "696ec734",
   "metadata": {},
   "source": [
    "<a name='2'></a>\n",
    "## 2 - System of Linear Equations with No Solutions\n",
    "\n",
    "Given another system of linear equations:\n",
    "\n",
    "$$\\begin{cases} \n",
    "-x+3y=7, \\\\ 3x-9y=1, \\end{cases}\\tag{5}$$\n",
    "\n",
    "let's find the determinant of the corresponding matrix."
   ]
  },
  {
   "cell_type": "code",
   "execution_count": 10,
   "id": "4780129a",
   "metadata": {},
   "outputs": [
    {
     "name": "stdout",
     "output_type": "stream",
     "text": [
      "Determinant of matrix A_2: 0.00\n"
     ]
    }
   ],
   "source": [
    "A_2 = np.array([\n",
    "        [-1, 3],\n",
    "        [3, -9]\n",
    "    ], dtype=np.dtype(float))\n",
    "\n",
    "b_2 = np.array([7, 1], dtype=np.dtype(float))\n",
    "\n",
    "d_2 = np.linalg.det(A_2)\n",
    "\n",
    "print(f\"Determinant of matrix A_2: {d_2:.2f}\")"
   ]
  },
  {
   "cell_type": "markdown",
   "id": "e60bd6f9",
   "metadata": {},
   "source": [
    "It is equal to zero, thus the system is Singular. It will have either infinitely many solutions or none. The consistency of it will depend on the free coefficients (right side coefficients). You can run the code in the following cell to check that the `np.linalg.solve()` function will give an error due to singularity."
   ]
  },
  {
   "cell_type": "code",
   "execution_count": null,
   "id": "14f088b4",
   "metadata": {},
   "outputs": [],
   "source": [
    "try:\n",
    "    x_2 = np.linalg.solve(A_2, b_2)\n",
    "except np.linalg.LinAlgError as err:\n",
    "    print(err)"
   ]
  },
  {
   "cell_type": "code",
   "execution_count": null,
   "id": "f25e3564",
   "metadata": {},
   "outputs": [],
   "source": []
  }
 ],
 "metadata": {
  "kernelspec": {
   "display_name": "Python 3 (ipykernel)",
   "language": "python",
   "name": "python3"
  },
  "language_info": {
   "codemirror_mode": {
    "name": "ipython",
    "version": 3
   },
   "file_extension": ".py",
   "mimetype": "text/x-python",
   "name": "python",
   "nbconvert_exporter": "python",
   "pygments_lexer": "ipython3",
   "version": "3.11.4"
  }
 },
 "nbformat": 4,
 "nbformat_minor": 5
}
